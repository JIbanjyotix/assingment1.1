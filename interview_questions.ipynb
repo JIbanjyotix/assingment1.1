{
 "cells": [
  {
   "cell_type": "code",
   "execution_count": null,
   "metadata": {},
   "outputs": [],
   "source": [
    "# Q1: What are data types in programming?\n",
    "# A: Data types are classification of data that tells the compiler or interpreter how the programmer intends to use the data.\n",
    "\n",
    "# Q2: What are difference between primitive and non=primitive data-types?\n",
    "# A: A primitive data type is one that build into the language and is mot derived from any other type.\n",
    "#    A nonprimitive data type is one that is not build into the languageand is instead deived from a primitive data=type.\n",
    "\n",
    "# Q3: Can you give me some examples of primitive data types?\n",
    "# A:  Examples of primitive data types can be integers, floats and booleans.\n",
    "\n",
    "# Q4: What is the purpose of \"is\" operator in python? How do you determine wheather two variables point to same object or not?\n",
    "# A: The \"is\" operator in ppython is used to determine wheather two variables pont to the same object or not. if two variables point to the same object then \n",
    "#    they will be equall.\n",
    "\n",
    "# Q5: What is the output of the following code?\n",
    "#     (print 9//2)\n",
    "# A: 4\n",
    "\n",
    "# Q6: What will the following code do?   (value1==value2)\n",
    "# A:  It checks if value1 is equall to value2\n",
    "\n",
    "# Q7: What is the use of 'in' operator?\n",
    "# A: It checks if a value is present in a sequence.\n",
    "\n",
    "# Q8: What will the following code do?   (value1 += value2)\n",
    "# A:  It adds the value1 and value2 and assigns the new value to value1. \n",
    "\n",
    "# Q9: What is the syntax for Python \"if\" statement?\n",
    "# A:  if(condition):\n",
    "#           statement1\n",
    "#           statement2\n",
    "#           statementN\n",
    "\n",
    "# Q10: List the 3 keywords used for conditional execution.\n",
    "# A:   those keywords are  if,else,elif.\n",
    "\n",
    "# Q11: what is the name of the operator used to assign 1 of 2 values depending on a condition?\n",
    "# A:  Ternary operators\n",
    "\n",
    "# Q12: Write code that adds num_1 to num_2 and saves the result to sum?\n",
    "# A:   sum=num_1 + num_2\n",
    "\n",
    "# Q13: Which of the following type of loops are not supported by Python?\n",
    "# A:   do while\n",
    "\n",
    "# Q14: What should be the result of executing the following code\n",
    "     \n",
    "#      n= sum(range(2,4))\n",
    "#      while n:\n",
    "#          print(n,end='')\n",
    "#          n=n-1\n",
    "#           break\n",
    "#      else:\n",
    "#         print('End', end='')\n",
    "# A: 5\n",
    "\n",
    "# Q15: Which statement is used inside a loop to skip the rest of the code for the current iteration, so execution can continue with the next iteration?\n",
    "# A:  continue statement\n",
    "\n",
    "# Q16: Which loop in python is a counter controlled loop?\n",
    "# A:  for\n",
    "\n",
    "# Q17: What are the types of functions in Python?\n",
    "# A:   two types:\n",
    "#         1.predefined functions\n",
    "#         2.user defined functions\n",
    "\n",
    "\n"
   ]
  },
  {
   "cell_type": "code",
   "execution_count": 1,
   "metadata": {},
   "outputs": [
    {
     "name": "stdout",
     "output_type": "stream",
     "text": [
      "[2, 4, 6, 8]\n"
     ]
    }
   ],
   "source": [
    "# Q18: Write a  python program to print the even numbers from a given list\n",
    "\n",
    "def is_even_num(l):\n",
    "    enum=[]\n",
    "    for n in l:\n",
    "        if n%2 ==0:\n",
    "            enum.append(n)\n",
    "    return enum\n",
    "print(is_even_num([1,2,3,4,5,6,7,8,9]))"
   ]
  },
  {
   "cell_type": "code",
   "execution_count": 2,
   "metadata": {},
   "outputs": [
    {
     "name": "stdout",
     "output_type": "stream",
     "text": [
      "6\n"
     ]
    }
   ],
   "source": [
    "# Q19:Write a python function to find the  max oof three numbers.\n",
    "\n",
    "def max_of_two(x,y):\n",
    "    if x>y:\n",
    "        return x\n",
    "    return y\n",
    "\n",
    "def max_of_three(x,y,z):\n",
    "    return max_of_two(x,max_of_two(y,z))\n",
    "\n",
    "print(max_of_three(3,6,-5))"
   ]
  },
  {
   "cell_type": "code",
   "execution_count": 3,
   "metadata": {},
   "outputs": [
    {
     "name": "stdout",
     "output_type": "stream",
     "text": [
      "54nabiJ321\n"
     ]
    }
   ],
   "source": [
    "# Q20:Write  a python function to reverse a string?\n",
    "\n",
    "def string_reverse(str1):\n",
    "\n",
    "    rstr1=''\n",
    "    index=len(str1)\n",
    "    while index>0:\n",
    "        rstr1 += str1[index-1]\n",
    "        index = index-1\n",
    "    return rstr1\n",
    "\n",
    "print(string_reverse('123Jiban45'))"
   ]
  }
 ],
 "metadata": {
  "kernelspec": {
   "display_name": "Python 3.10.7 64-bit",
   "language": "python",
   "name": "python3"
  },
  "language_info": {
   "codemirror_mode": {
    "name": "ipython",
    "version": 3
   },
   "file_extension": ".py",
   "mimetype": "text/x-python",
   "name": "python",
   "nbconvert_exporter": "python",
   "pygments_lexer": "ipython3",
   "version": "3.10.7"
  },
  "orig_nbformat": 4,
  "vscode": {
   "interpreter": {
    "hash": "0d72b21489300652f2337cd7f80c57cc00ce6bbc92cf98d285c178d0a8ced433"
   }
  }
 },
 "nbformat": 4,
 "nbformat_minor": 2
}
